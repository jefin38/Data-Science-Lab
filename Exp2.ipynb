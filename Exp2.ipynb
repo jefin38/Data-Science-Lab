{
 "cells": [
  {
   "cell_type": "code",
   "execution_count": 2,
   "id": "7bafc82b-962e-46f2-936f-ff73123f5686",
   "metadata": {},
   "outputs": [],
   "source": [
    "import numpy as np"
   ]
  },
  {
   "cell_type": "code",
   "execution_count": 3,
   "id": "16115809-a501-47ff-b25f-b0c4c92f43b6",
   "metadata": {},
   "outputs": [
    {
     "name": "stdout",
     "output_type": "stream",
     "text": [
      "One dimensional array a= [1 2 3]\n",
      "Two dimensional array b=\n",
      " [[1 2 3]\n",
      " [4 5 6]]\n",
      "Size of the array: (3,)\n",
      "Element at indices 0,1,2: 1 2 3\n",
      "Array after changing the element at index 0: [5 2 3]\n",
      "An array of all zeroes:\n",
      " [[0. 0.]\n",
      " [0. 0.]]\n",
      "An array of all ones:\n",
      " [[1. 1.]]\n",
      "A constant array:\n",
      " [[7 7]\n",
      " [7 7]]\n",
      "A 2x2 identity matrix:\n",
      " [[1. 0.]\n",
      " [0. 1.]]\n",
      "An array with random values: [[0.33366232 0.47710687]\n",
      " [0.15905316 0.41523252]]\n"
     ]
    }
   ],
   "source": [
    "a = np.array([1,2,3]) #create rank 1 array\n",
    "print(\"One dimensional array a=\",a)\n",
    "b = np.array([[1,2,3],[4,5,6]])\n",
    "print(\"Two dimensional array b=\\n\",b)\n",
    "print(\"Size of the array:\",a.shape)\n",
    "print(\"Element at indices 0,1,2:\",a[0],a[1],a[2])\n",
    "a[0] = 5 #Change an element of the array\n",
    "print(\"Array after changing the element at index 0:\",a)\n",
    "a = np.zeros((2,2)) #Create an array of all zeros\n",
    "print(\"An array of all zeroes:\\n\",a)\n",
    "b = np.ones((1,2)) #Create an array of all ones\n",
    "print(\"An array of all ones:\\n\",b)\n",
    "c = np.full((2,2),7) #Create a constant aray\n",
    "print(\"A constant array:\\n\",c)\n",
    "d = np.eye(2) #Create a 2x2 identity matrix\n",
    "print(\"A 2x2 identity matrix:\\n\",d)\n",
    "e = np.random.random((2,2)) #Create an array filled with random values\n",
    "print(\"An array with random values:\",e)s of arrays on an element-by-element basis. In the simplest case, the two arrays must have exactly the"
   ]
  },
  {
   "cell_type": "code",
   "execution_count": 15,
   "id": "7632b318-35b9-47e6-89e4-985b423aa188",
   "metadata": {},
   "outputs": [
    {
     "name": "stdout",
     "output_type": "stream",
     "text": [
      "Array indexing: slicing\n",
      "a1=\n",
      " [[ 1  2  3  4]\n",
      " [ 5  6  7  8]\n",
      " [ 9 10 11 12]]\n",
      "Subarray consisting of first two rows and columns 1 and 2:\n",
      " [[2 3]\n",
      " [6 7]]\n",
      "Subarray consists of second row: [[5 6 7 8]]\n",
      "Accessing columns:\n",
      "[ 2  6 10] (3,)\n",
      "[[ 2]\n",
      " [ 6]\n",
      " [10]] (3, 1)\n",
      "Array integer indexing:-\n",
      "a2=\n",
      " [[1 2]\n",
      " [3 4]\n",
      " [5 6]]\n",
      "Example of array integer indexing: [1 4 5]\n",
      "[2 2]\n",
      "[2 2]\n",
      "a3=  [[ 1  2  3]\n",
      " [ 4  5  6]\n",
      " [ 7  8  9]\n",
      " [10 11 12]]\n",
      "b= [0 2 0 1]\n",
      "a3= [ 1  6  7 11]\n",
      "a3= [[11  2  3]\n",
      " [ 4  5 16]\n",
      " [17  8  9]\n",
      " [10 21 12]]\n",
      "Boolean array indexing:\n",
      "a= [[1 2]\n",
      " [3 4]\n",
      " [5 6]]\n",
      "Elements greater than 2: [3 4 5 6]\n"
     ]
    }
   ],
   "source": [
    "print(\"Array indexing: slicing\")\n",
    "a1 = np.array([[1,2,3,4],[5,6,7,8],[9,10,11,12]])\n",
    "print(\"a1=\\n\",a1)\n",
    "b = a1[:2,1:3]\n",
    "print(\"Subarray consisting of first two rows and columns 1 and 2:\\n\",b)\n",
    "b = a1[1:2,:]\n",
    "print(\"Subarray consists of second row:\",b)\n",
    "print(\"Accessing columns:\")\n",
    "b = a1[:,1]\n",
    "print(b,b.shape)\n",
    "c = a1[:,1:2]\n",
    "print(c,c.shape)\n",
    "print(\"Array integer indexing:-\")\n",
    "a2 = np.array([[1,2],[3,4],[5,6]])\n",
    "print(\"a2=\\n\",a2)\n",
    "print(\"Example of array integer indexing:\",a2[[0,1,2],[0,1,0]])\n",
    "# When  using integer array indexing, you can reuse the same element from the source array\n",
    "print(a2[[0,0],[1,1]])\n",
    "# Equivalent to the previous integer array indexing example\n",
    "print(np.array([a2[0,1],a2[0,1]]))\n",
    "a3 = np.array([[1,2,3],[4,5,6],[7,8,9],[10,11,12]])\n",
    "print(\"a3= \",a3)\n",
    "# Create an array of indices\n",
    "b = np.array([0,2,0,1])\n",
    "print(\"b=\",b)\n",
    "# Select one element from each row of a using the indices in b\n",
    "print(\"a3=\",a3[np.arange(4),b])\n",
    "# Mutate one eleement from each row of a using the indices in b\n",
    "a3[np.arange(4),b]+=10\n",
    "print(\"a3=\",a3)\n",
    "print(\"Boolean array indexing:\")\n",
    "a = np.array([[1,2],[3,4],[5,6]])\n",
    "print(\"a=\",a)\n",
    "bool_idx = (a>2)\n",
    "print(\"Elements greater than 2:\",a[bool_idx])"
   ]
  },
  {
   "cell_type": "code",
   "execution_count": 5,
   "id": "e5ce9871-b132-44a4-b833-65ad6568c8b7",
   "metadata": {},
   "outputs": [
    {
     "name": "stdout",
     "output_type": "stream",
     "text": [
      "x=\n",
      " [[1. 2.]\n",
      " [3. 4.]]\n",
      "y=\n",
      " [[6. 9.]\n",
      " [4. 4.]]\n",
      "Element wise addition:\n",
      " [[ 7. 11.]\n",
      " [ 7.  8.]]\n",
      "Element wise subtraction:\n",
      " [[-5. -7.]\n",
      " [-1.  0.]]\n",
      "Element wise multiplication:\n",
      " [[ 6. 18.]\n",
      " [12. 16.]]\n",
      "Element wise square root of x:\n",
      " [[1.         1.41421356]\n",
      " [1.73205081 2.        ]]\n",
      "Matrix multiplication:\n",
      " [[14. 17.]\n",
      " [34. 43.]]\n",
      "Sum of all elements of matrix x: 10.0\n",
      "Sum of elements in each column of matrix y: [10. 13.]\n",
      "Sum of elements in each row of matrix y: [15.  8.]\n",
      "Transpose of matrix x:\n",
      " [[1. 3.]\n",
      " [2. 4.]]\n"
     ]
    }
   ],
   "source": [
    "x = np.array([[1,2],[3,4]],dtype=np.float64)\n",
    "y = np.array([[6,9],[4,4]],dtype=np.float64)\n",
    "print(\"x=\\n\",x)\n",
    "print(\"y=\\n\",y)\n",
    "print(\"Element wise addition:\\n\",np.add(x,y))\n",
    "print(\"Element wise subtraction:\\n\",np.subtract(x,y))\n",
    "print(\"Element wise multiplication:\\n\",np.multiply(x,y))\n",
    "print(\"Element wise square root of x:\\n\",np.sqrt(x))\n",
    "print(\"Matrix multiplication:\\n\",np.dot(x,y))\n",
    "print(\"Sum of all elements of matrix x:\",np.sum(x))\n",
    "print(\"Sum of elements in each column of matrix y:\",np.sum(y,axis=0))\n",
    "print(\"Sum of elements in each row of matrix y:\",np.sum(y,axis=1))\n",
    "print(\"Transpose of matrix x:\\n\",x.T)"
   ]
  },
  {
   "cell_type": "code",
   "execution_count": 7,
   "id": "d93dd283-55e8-4ac7-8227-6f9a5075b789",
   "metadata": {},
   "outputs": [
    {
     "name": "stdout",
     "output_type": "stream",
     "text": [
      "Example for broadcasting:-\n",
      "v= [1 2 3]\n",
      "w= [4 5]\n",
      "Outer product of above vectors:\n",
      "[[ 4  5]\n",
      " [ 8 10]\n",
      " [12 15]]\n",
      "x= [[1 2 3]\n",
      " [4 5 6]]\n",
      "Resultant matrix after adding the vector x to each row of matrix v:\n",
      "[[2 4 6]\n",
      " [5 7 9]]\n",
      "[[2 4 6]\n",
      " [5 7 9]]\n",
      "Example for broadcasting fails:-\n",
      "Adding the vector x to each column of matrix w will generate an error\n",
      "Solution:Reshape the matrix w,then the reult will be:\n",
      "[[ 5  6  7]\n",
      " [ 9 10 11]]\n"
     ]
    }
   ],
   "source": [
    "print(\"Example for broadcasting:-\")\n",
    "v = np.array([1,2,3])\n",
    "w = np.array([4,5])\n",
    "print(\"v=\",v)\n",
    "print(\"w=\",w)\n",
    "print(\"Outer product of above vectors:\")\n",
    "print(np.reshape(v,(3,1))*w)\n",
    "x = np.array([[1,2,3],[4,5,6]])\n",
    "print(\"x=\",x)\n",
    "print(\"Resultant matrix after adding the vector v to each row of matrix x:\")\n",
    "print(x+v)\n",
    "print(\"Example for broadcasting fails:-\")\n",
    "print(\"Adding the vector w to each column of matrix x will generate an error\")\n",
    "print(\"Solution:Reshape the vector w,then the reult will be:\")\n",
    "print(x+np.reshape(w,(2,1)))"
   ]
  },
  {
   "cell_type": "code",
   "execution_count": 1,
   "id": "8aa5af48-9782-4eb1-902d-0a3e399cc8ad",
   "metadata": {},
   "outputs": [
    {
     "name": "stdout",
     "output_type": "stream",
     "text": [
      "A= [[1 2]\n",
      " [3 4]\n",
      " [5 6]]\n",
      "Shape of array A: (3, 2)\n",
      "\n",
      "U= [[-0.2298477   0.88346102  0.40824829]\n",
      " [-0.52474482  0.24078249 -0.81649658]\n",
      " [-0.81964194 -0.40189603  0.40824829]]\n",
      "Shape of matrix U: (3, 3)\n",
      "\n",
      "Sigma(diagonal matrix), s= [9.52551809 0.51430058]\n",
      "Shape of matrix sigma: (2,)\n",
      "\n",
      "Transpose Matrix,VT= [[-0.61962948 -0.78489445]\n",
      " [-0.78489445  0.61962948]]\n",
      "Shape of matrix VT: (2, 2)\n"
     ]
    }
   ],
   "source": [
    "from numpy import array\n",
    "from scipy.linalg import svd\n",
    "# define a matrix\n",
    "A = array([[1,2],[3,4],[5,6]])\n",
    "print(\"A=\",A)\n",
    "print(\"Shape of array A:\",A.shape)\n",
    "print(\"\")\n",
    "U,s,VT = svd(A) #SvD\n",
    "print(\"U=\",U)\n",
    "print(\"Shape of matrix U:\",U.shape)\n",
    "print(\"\")\n",
    "print(\"Sigma(diagonal matrix), s=\",s)\n",
    "print(\"Shape of matrix sigma:\",s.shape)\n",
    "print(\"\")\n",
    "print(\"Transpose Matrix,VT=\",VT)\n",
    "print(\"Shape of matrix VT:\",VT.shape)"
   ]
  },
  {
   "cell_type": "code",
   "execution_count": 3,
   "id": "206307b9-1202-4ef4-a07d-a9a584ee303a",
   "metadata": {},
   "outputs": [
    {
     "name": "stdout",
     "output_type": "stream",
     "text": [
      "A= [[1 2]\n",
      " [3 4]\n",
      " [5 6]]\n",
      "Shape of matrix A: (3, 2)\n",
      "\n",
      "U= [[-0.2298477   0.88346102  0.40824829]\n",
      " [-0.52474482  0.24078249 -0.81649658]\n",
      " [-0.81964194 -0.40189603  0.40824829]]\n",
      "Shape of matrix U: (3, 3)\n",
      "\n",
      "Sigma(diagonal matrix), s= [9.52551809 0.51430058]\n",
      "Shape of matrix sigma: (2,)\n",
      "\n",
      "Transpose Matrix,VT= [[-0.61962948 -0.78489445]\n",
      " [-0.78489445  0.61962948]]\n",
      "Shape of matrix VT: (2, 2)\n",
      "Reconstructed matrix:\n",
      " [[1. 2.]\n",
      " [3. 4.]\n",
      " [5. 6.]]\n"
     ]
    }
   ],
   "source": [
    "#Reconstruct matrix from svd\n",
    "from numpy import array,diag,dot,zeros\n",
    "from scipy.linalg import svd\n",
    "\n",
    "A = array([[1,2],[3,4],[5,6]])\n",
    "print(\"A=\",A)\n",
    "print(\"Shape of matrix A:\",A.shape)\n",
    "print(\"\")\n",
    "U,s,VT = svd(A)\n",
    "print(\"U=\",U)\n",
    "print(\"Shape of matrix U:\",U.shape)\n",
    "print(\"\")\n",
    "print(\"Sigma(diagonal matrix), s=\",s)\n",
    "print(\"Shape of matrix sigma:\",s.shape)\n",
    "print(\"\")\n",
    "print(\"Transpose Matrix,VT=\",VT)\n",
    "print(\"Shape of matrix VT:\",VT.shape)\n",
    "sigma = zeros((A.shape[0],A.shape[1]))\n",
    "sigma[:A.shape[1],:A.shape[1]]= diag(s)\n",
    "B = U.dot(sigma.dot(VT))\n",
    "print(\"Reconstructed matrix:\\n\",B)"
   ]
  },
  {
   "cell_type": "code",
   "execution_count": 7,
   "id": "54ece330-faf9-4a8e-b21d-0805cd106214",
   "metadata": {},
   "outputs": [
    {
     "name": "stdout",
     "output_type": "stream",
     "text": [
      "A= [[1 2]\n",
      " [3 4]\n",
      " [5 6]]\n",
      "Pseudoinverse of matrix A calculated by function pinv is:\n",
      "[[-1.33333333 -0.33333333  0.66666667]\n",
      " [ 1.08333333  0.33333333 -0.41666667]]\n",
      "Pseudoinverse of matrix A calculated by using svd is:\n",
      "[[-1.33333333 -0.33333333  0.66666667]\n",
      " [ 1.08333333  0.33333333 -0.41666667]]\n"
     ]
    }
   ],
   "source": [
    "#svd for pseudoinverse\n",
    "from numpy import array,diag,zeros\n",
    "from numpy.linalg import svd \n",
    "from scipy.linalg import pinv\n",
    "\n",
    "A = array([[1,2],[3,4],[5,6]])\n",
    "print(\"A=\",A)\n",
    "print(\"Pseudoinverse of matrix A calculated by function pinv is:\")\n",
    "print(pinv(A))\n",
    "\n",
    "U,s,VT = svd(A)\n",
    "d = 1.0/s\n",
    "D = zeros(A.shape)\n",
    "D[:A.shape[1],:A.shape[1]] = diag(d)\n",
    "B = VT.T.dot(D.T).dot(U.T)\n",
    "print(\"Pseudoinverse of matrix A calculated by using svd is:\")\n",
    "print(B)"
   ]
  },
  {
   "cell_type": "code",
   "execution_count": null,
   "id": "4367914c-9429-40e9-be66-7b22a3bb2727",
   "metadata": {},
   "outputs": [],
   "source": []
  }
 ],
 "metadata": {
  "kernelspec": {
   "display_name": "Python 3 (ipykernel)",
   "language": "python",
   "name": "python3"
  },
  "language_info": {
   "codemirror_mode": {
    "name": "ipython",
    "version": 3
   },
   "file_extension": ".py",
   "mimetype": "text/x-python",
   "name": "python",
   "nbconvert_exporter": "python",
   "pygments_lexer": "ipython3",
   "version": "3.12.4"
  }
 },
 "nbformat": 4,
 "nbformat_minor": 5
}
