{
 "cells": [
  {
   "cell_type": "code",
   "execution_count": 1,
   "id": "ee93051a-ac86-4471-86a5-8f158568b40e",
   "metadata": {},
   "outputs": [
    {
     "name": "stdout",
     "output_type": "stream",
     "text": [
      "Demo of basic datatypes:Numbers\n",
      "x= 3\n",
      "y= 2.5\n",
      "Datatype of variable x: <class 'int'>\n",
      "Datatype of variable y: <class 'float'>\n",
      "Addition: 5.5\n",
      "Subtraction: 0.5\n",
      "Multiplication: 6\n",
      "Exponentation: 9\n"
     ]
    }
   ],
   "source": [
    "print(\"Demo of basic datatypes:Numbers\")\n",
    "x=3\n",
    "y=2.5\n",
    "print(\"x=\",x)\n",
    "print(\"y=\",y)\n",
    "print(\"Datatype of variable x:\",type(x))\n",
    "print(\"Datatype of variable y:\",type(y))\n",
    "print(\"Addition:\",x+y)\n",
    "print(\"Subtraction:\",x-y)\n",
    "print(\"Multiplication:\",x*2)\n",
    "print(\"Exponentation:\",x**2)"
   ]
  },
  {
   "cell_type": "code",
   "execution_count": 3,
   "id": "2c2630f5-fb48-40d5-add0-db2bf8a9fcdd",
   "metadata": {},
   "outputs": [
    {
     "name": "stdout",
     "output_type": "stream",
     "text": [
      "Demo of basic datatypes:Boolean\n",
      "t= True\n",
      "f= False\n",
      "Datatype of variable t: <class 'bool'>\n",
      "Datatype of variable f: <class 'bool'>\n",
      "Logical AND operation: False\n",
      "Logical OR operation: True\n",
      "Logical NOT operation: False\n",
      "Logical XOR operation: True\n"
     ]
    }
   ],
   "source": [
    "print(\"Demo of basic datatypes:Boolean\")\n",
    "t=True\n",
    "f=False\n",
    "print(\"t=\",t)\n",
    "print(\"f=\",f)\n",
    "print(\"Datatype of variable t:\",type(t))\n",
    "print(\"Datatype of variable f:\",type(f))\n",
    "print(\"Logical AND operation:\",t and f)\n",
    "print(\"Logical OR operation:\",t or f)\n",
    "print(\"Logical NOT operation:\",not t)\n",
    "print(\"Logical XOR operation:\",t != f)"
   ]
  },
  {
   "cell_type": "code",
   "execution_count": 8,
   "id": "15a7c936-0923-4fa2-b201-5af7945e03c0",
   "metadata": {},
   "outputs": [
    {
     "name": "stdout",
     "output_type": "stream",
     "text": [
      "Demo of basic datatypes:String\n",
      "string1= hello\n",
      "string2= world\n",
      "String concatenation: hello world\n",
      "Capitalize: Hello world\n",
      "Convrted to uppercase: HELLO\n",
      "Right justify a string:   hello\n",
      "String at center:  hello \n",
      "After replacing l with ell: he(ell)(ell)o\n",
      "String after striping leading and trailing white spaces: world\n"
     ]
    }
   ],
   "source": [
    "print(\"Demo of basic datatypes:String\")\n",
    "s=\"hello\"\n",
    "t=\"world\"\n",
    "print(\"string1=\",s)\n",
    "print(\"string2=\",t)\n",
    "d=s+\" \"+t\n",
    "print(\"String concatenation:\",d)\n",
    "print(\"Capitalize:\",d.capitalize())\n",
    "print(\"Convrted to uppercase:\",s.upper())\n",
    "print(\"Right justify a string:\",s.rjust(7))\n",
    "print(\"String at center:\",s.center(7))\n",
    "print(\"After replacing l with ell:\",s.replace('l','(ell)'))\n",
    "print(\"String after striping leading and trailing white spaces:\",' world '.strip())"
   ]
  },
  {
   "cell_type": "code",
   "execution_count": 10,
   "id": "3e97651a-fdfd-4240-85f5-21c7faee851f",
   "metadata": {},
   "outputs": [
    {
     "name": "stdout",
     "output_type": "stream",
     "text": [
      "Containers:Lists\n",
      "list 'nums' contains: [0, 1, 2, 3, 4]\n",
      "List can contain elements of different types.Example: [0, 1, 2, 3, 'abc']\n",
      "'nums'after inserting new element at the end: [0, 1, 2, 3, 'abc', 'xyz']\n",
      "Sublists:\n",
      "A slice from index 2 to 4: [2, 3]\n",
      "A slice from index 2 to the end: [2, 3, 'abc', 'xyz']\n",
      "A slice from the start to index 2: [0, 1]\n",
      "A slice of the whole list: [0, 1, 2, 3, 'abc', 'xyz']\n",
      "After assign a new sublist to 'nums':\n",
      "1:0\n",
      "2:1\n",
      "3:2\n",
      "4:3\n",
      "5:8\n",
      "6:9\n",
      "List of squares of even numbers from 'nums': [0, 4, 64]\n"
     ]
    }
   ],
   "source": [
    "print(\"Containers:Lists\")\n",
    "nums=list(range(5))\n",
    "print(\"list 'nums' contains:\",nums)\n",
    "nums[4]=\"abc\"\n",
    "print(\"List can contain elements of different types.Example:\",nums)\n",
    "nums.append(\"xyz\")\n",
    "print(\"'nums'after inserting new element at the end:\",nums)\n",
    "print(\"Sublists:\")\n",
    "print(\"A slice from index 2 to 4:\",nums[2:4])\n",
    "print(\"A slice from index 2 to the end:\",nums[2:])\n",
    "print(\"A slice from the start to index 2:\",nums[:2])\n",
    "print(\"A slice of the whole list:\",nums[:])\n",
    "nums[4:]=[8,9] # Assign a new sublist to a slice\n",
    "print(\"After assign a new sublist to 'nums':\")\n",
    "for idx,i in enumerate(nums):\n",
    "    print('%d:%s'%(idx+1,i))\n",
    "even_squares=[x**2 for x in nums if x%2==0]\n",
    "print(\"List of squares of even numbers from 'nums':\",even_squares)"
   ]
  },
  {
   "cell_type": "code",
   "execution_count": 11,
   "id": "d40d8826-94f2-4741-a279-e0f55a0992b4",
   "metadata": {},
   "outputs": [
    {
     "name": "stdout",
     "output_type": "stream",
     "text": [
      "Containers:Dictionaries\n",
      "Dictionary: {'cat': 'cute', 'dog': 'furry'}\n",
      "Is the dictionary has the key 'cat'? True\n",
      "After adding new entry to 'd': {'cat': 'cute', 'dog': 'furry', 'fish': 'wet'}\n",
      "Get an element monkey: N/A\n",
      "Get an element fish: wet\n",
      "After deleting the newly added entry from 'd': {'cat': 'cute', 'dog': 'furry'}\n",
      "Demo of dictionary comprehension:\n",
      "Squares of integers of range 10:\n",
      "0 : 0\n",
      "1 : 1\n",
      "2 : 4\n",
      "3 : 9\n",
      "4 : 16\n",
      "5 : 25\n",
      "6 : 36\n",
      "7 : 49\n",
      "8 : 64\n",
      "9 : 81\n"
     ]
    }
   ],
   "source": [
    "print(\"Containers:Dictionaries\")\n",
    "d=dict()\n",
    "d={'cat':'cute','dog':'furry'}\n",
    "print(\"Dictionary:\",d)\n",
    "print(\"Is the dictionary has the key 'cat'?\",'cat' in d)\n",
    "d['fish']='wet'\n",
    "print(\"After adding new entry to 'd':\",d)\n",
    "print(\"Get an element monkey:\",d.get('monkey','N/A'))\n",
    "print(\"Get an element fish:\",d.get('fish','N/A'))\n",
    "del d['fish']\n",
    "print(\"After deleting the newly added entry from 'd':\",d)\n",
    "print(\"Demo of dictionary comprehension:\")\n",
    "squares={x:x*x for x in range(10)}\n",
    "print(\"Squares of integers of range 10:\")\n",
    "for k,v in squares.items():\n",
    "    print(k,\":\",v)"
   ]
  },
  {
   "cell_type": "code",
   "execution_count": 12,
   "id": "98f990b4-f9ee-42f2-9b81-40685b43ab69",
   "metadata": {},
   "outputs": [
    {
     "name": "stdout",
     "output_type": "stream",
     "text": [
      "Containers:Sets\n",
      "Set 'num1': {120, 100, 110}\n",
      "'num1' after inserting 90: {120, 90, 100, 110}\n",
      "'num1' after inserting multiple elements: {100, 70, 110, 50, 120, 90, 60}\n",
      "'num1' after removing 60: {100, 70, 110, 50, 120, 90}\n",
      "Set comprehension & Set operations:\n",
      "n1= {0, 1, 2, 3, 4, 5, 6, 7, 8, 9}\n",
      "n2= {1, 3, 5, 7, 9}\n",
      "n1 union n2 {0, 1, 2, 3, 4, 5, 6, 7, 8, 9}\n",
      "n1 intersection n2 {1, 3, 5, 7, 9}\n",
      "n1 difference n2 {0, 2, 4, 6, 8}\n"
     ]
    }
   ],
   "source": [
    "print(\"Containers:Sets\")\n",
    "num1={100,110,120}\n",
    "print(\"Set 'num1':\",num1)\n",
    "num1.add(90)\n",
    "print(\"'num1' after inserting 90:\",num1)\n",
    "num1.update([50,60,70])\n",
    "print(\"'num1' after inserting multiple elements:\",num1)\n",
    "num1.remove(60)\n",
    "print(\"'num1' after removing 60:\",num1)\n",
    "print(\"Set comprehension & Set operations:\")\n",
    "n1={x for x in range(10)}\n",
    "print(\"n1=\",n1)\n",
    "n2={x for x in range(10) if x%2!=0}\n",
    "print(\"n2=\",n2)\n",
    "print(\"n1 union n2\",n1|n2)\n",
    "print(\"n1 intersection n2\",n1&n2)\n",
    "print(\"n1 difference n2\",n1-n2)"
   ]
  },
  {
   "cell_type": "code",
   "execution_count": 13,
   "id": "ab35db71-38b5-4845-b9e0-13e424b275a8",
   "metadata": {},
   "outputs": [
    {
     "name": "stdout",
     "output_type": "stream",
     "text": [
      "Containers:Tuples\n",
      "Dictionary with tuple keys:\n",
      "(0, 1) : 0\n",
      "(1, 2) : 1\n",
      "(2, 3) : 2\n",
      "(3, 4) : 3\n",
      "(4, 5) : 4\n",
      "(5, 6) : 5\n",
      "(6, 7) : 6\n",
      "(7, 8) : 7\n",
      "(8, 9) : 8\n",
      "(9, 10) : 9\n",
      "Tuple t: (5, 6)\n",
      "5\n",
      "1\n"
     ]
    }
   ],
   "source": [
    "print(\"Containers:Tuples\")\n",
    "d={(x,x+1):x for x in range(10)}\n",
    "print(\"Dictionary with tuple keys:\")\n",
    "for k,v in d.items():\n",
    "    print(k,\":\",v)\n",
    "t=(5,6)\n",
    "print(\"Tuple t:\",t)\n",
    "print(d[t])\n",
    "print(d[1,2])"
   ]
  },
  {
   "cell_type": "code",
   "execution_count": 14,
   "id": "339dfed9-c773-46e0-8a5e-4cce543adb21",
   "metadata": {},
   "outputs": [
    {
     "name": "stdout",
     "output_type": "stream",
     "text": [
      "Demo of function: Program to find factorial of a number\n"
     ]
    },
    {
     "name": "stdin",
     "output_type": "stream",
     "text": [
      "Enter a number: 5\n"
     ]
    },
    {
     "name": "stdout",
     "output_type": "stream",
     "text": [
      "Factorial: 120\n"
     ]
    }
   ],
   "source": [
    "print(\"Demo of function: Program to find factorial of a number\")\n",
    "def fact(n):\n",
    "    if n==1:\n",
    "        return 1\n",
    "    else:\n",
    "        return(n*fact(n-1))\n",
    "n=int(input(\"Enter a number:\"))\n",
    "print(\"Factorial:\",fact(n))"
   ]
  },
  {
   "cell_type": "code",
   "execution_count": 18,
   "id": "5f56d54e-e34c-4ea4-a8b0-a0462d002b87",
   "metadata": {},
   "outputs": [
    {
     "name": "stdout",
     "output_type": "stream",
     "text": [
      "Hello, Fred\n",
      "HELLO, FRED!\n"
     ]
    }
   ],
   "source": [
    "class Greeter:\n",
    "    def __init__(self,name):\n",
    "        self.name=name\n",
    "    def greet(self,loud=False):\n",
    "        if loud:\n",
    "            print('HELLO, %s!'%self.name.upper())\n",
    "        else:\n",
    "            print('Hello, %s'%self.name)\n",
    "g=Greeter('Fred')\n",
    "g.greet()\n",
    "g.greet(loud=True)"
   ]
  },
  {
   "cell_type": "code",
   "execution_count": null,
   "id": "e4aac6e8-eb8b-4a0d-acd8-1fa967ea6120",
   "metadata": {},
   "outputs": [],
   "source": []
  }
 ],
 "metadata": {
  "kernelspec": {
   "display_name": "Python 3 (ipykernel)",
   "language": "python",
   "name": "python3"
  },
  "language_info": {
   "codemirror_mode": {
    "name": "ipython",
    "version": 3
   },
   "file_extension": ".py",
   "mimetype": "text/x-python",
   "name": "python",
   "nbconvert_exporter": "python",
   "pygments_lexer": "ipython3",
   "version": "3.12.4"
  }
 },
 "nbformat": 4,
 "nbformat_minor": 5
}
